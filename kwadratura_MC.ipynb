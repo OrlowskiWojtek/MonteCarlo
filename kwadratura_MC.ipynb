{
 "cells": [
  {
   "cell_type": "markdown",
   "metadata": {},
   "source": [
    "Zaimplementować najprostszą metodę Monte Carlo obliczania całki\n",
    "\n",
    "$$I(f)=\\int\\limits_a^b f(x) dx$$\n",
    "\n",
    "Przedstawić dwie implementację używającą modułu $\\color{green}{numpy}$ oraz wykonać testy numeryczne."
   ]
  },
  {
   "cell_type": "markdown",
   "metadata": {},
   "source": [
    "Dla ustalonego $n\\in\\mathbb{N}$ metoda ta ma postać\n",
    "\n",
    "$$MC_n(f) = \\frac{b-a}{n}\\sum\\limits_{j=1}^n f(\\xi_j), $$\n",
    "\n",
    "gdzie $\\xi_1,\\xi_2,\\ldots,\\xi_n$ są niezależnymi zmiennymi losowymi o rozkładzie jednostajnym na $[a,b]$. Wariancja empiryczna ma postać\n",
    "\n",
    "$$\\bar V_n(f) = \\frac{1}{n-1}\\sum\\limits_{j=1}^n\\Bigl((b-a)f(\\xi_j)-MC_n(f)\\Bigr)^2$$\n",
    "$$=\\frac{1}{n-1}\\sum\\limits_{j=1}^n((b-a)f(\\xi_j))^2-\\frac{n}{n-1}(MC_n(f))^2$$"
   ]
  },
  {
   "cell_type": "markdown",
   "metadata": {},
   "source": [
    "Empiryczne przedziały ufności na poziomie ufności $1-\\alpha=0.95$, mają postać\n",
    "\n",
    "$$\\Bigl[MC_n(f)-2\\cdot\\sqrt{\\frac{\\bar V_n(f)}{n}}, MC_n(f)+2\\cdot\\sqrt{\\frac{\\bar V_n(f)}{n}}\\Bigr]$$"
   ]
  },
  {
   "cell_type": "code",
   "execution_count": 1,
   "metadata": {},
   "outputs": [],
   "source": [
    "import numpy as np"
   ]
  },
  {
   "cell_type": "code",
   "execution_count": 2,
   "metadata": {},
   "outputs": [],
   "source": [
    "a = 0.0\n",
    "b = np.pi"
   ]
  },
  {
   "cell_type": "code",
   "execution_count": 3,
   "metadata": {},
   "outputs": [],
   "source": [
    "N = [11, 11**2, 11**3, 11**4]"
   ]
  },
  {
   "cell_type": "code",
   "execution_count": 4,
   "metadata": {},
   "outputs": [],
   "source": [
    "I = 2.0+ (np.pi**3)/3"
   ]
  },
  {
   "cell_type": "code",
   "execution_count": 5,
   "metadata": {},
   "outputs": [
    {
     "name": "stdout",
     "output_type": "stream",
     "text": [
      "12.335425560099939\n"
     ]
    }
   ],
   "source": [
    "print(I)"
   ]
  },
  {
   "cell_type": "code",
   "execution_count": 6,
   "metadata": {},
   "outputs": [],
   "source": [
    "def quad_MC(f, a, b, n):    \n",
    "    random_samples_0 = np.random.uniform(a,b,n)\n",
    "    f_values = f(random_samples_0)\n",
    "    \n",
    "    avg_f = np.mean(f_values)\n",
    "    MC_f = (b-a) * avg_f\n",
    "    \n",
    "    random_samples_1 = np.power(f_values-avg_f,2)\n",
    "    Var_f = (n / (n-1)) * np.power(b-a,2) * np.mean(random_samples_1)\n",
    "    \n",
    "    L_CI = MC_f - 2.0*np.sqrt(Var_f/n)\n",
    "    R_CI = MC_f + 2.0*np.sqrt(Var_f/n)\n",
    "    \n",
    "    return MC_f, Var_f, L_CI, R_CI"
   ]
  },
  {
   "cell_type": "code",
   "execution_count": 7,
   "metadata": {},
   "outputs": [],
   "source": [
    "def f_0(x):\n",
    "    return np.sin(x)+x**2"
   ]
  },
  {
   "cell_type": "code",
   "execution_count": 8,
   "metadata": {},
   "outputs": [],
   "source": [
    "N = [11, 11**2, 11**3, 11**4, 11**5, 11**7, 11**8]"
   ]
  },
  {
   "cell_type": "code",
   "execution_count": 9,
   "metadata": {},
   "outputs": [
    {
     "name": "stdout",
     "output_type": "stream",
     "text": [
      "n = 11, Quad MC= 15.3349596505, wariancja = 120.9238167591, [8.7037985906, 21.9661207105], błąd = 2.9995340904\n",
      "n = 121, Quad MC= 12.3014424313, wariancja = 76.3133083010, [10.7131244551, 13.8897604075], błąd = 0.0339831288\n",
      "n = 1331, Quad MC= 11.9774414052, wariancja = 83.0531076614, [11.4778454523, 12.4770373582], błąd = 0.3579841549\n",
      "n = 14641, Quad MC= 12.3387252072, wariancja = 82.2177567706, [12.1888508143, 12.4885996001], błąd = 0.0032996471\n",
      "n = 161051, Quad MC= 12.3604504245, wariancja = 81.8264903939, [12.3153692477, 12.4055316014], błąd = 0.0250248644\n",
      "n = 19487171, Quad MC= 12.3404401270, wariancja = 81.9405129695, [12.3363389838, 12.3445412702], błąd = 0.0050145669\n",
      "n = 214358881, Quad MC= 12.3354025466, wariancja = 81.9285839765, [12.3341660954, 12.3366389978], błąd = 0.0000230135\n",
      "Wall time: 11.8 s\n"
     ]
    }
   ],
   "source": [
    "%%time\n",
    "for i in range(0, len(N)):\n",
    "    Q, VAR, L_CI, R_CI = quad_MC(f_0, a, b, N[i])\n",
    "    ERR = abs(I-Q)\n",
    "    print(\"n = %.i, Quad MC= %.10f, wariancja = %.10f, [%.10f, %.10f], błąd = %.10f\" % (N[i], Q, VAR, L_CI, R_CI, ERR) )"
   ]
  },
  {
   "cell_type": "markdown",
   "metadata": {},
   "source": [
    "$$2\\cdot\\int\\limits_0^1 \\frac{dx}{\\sqrt{1-x^2}}=\\pi$$\n",
    "\n",
    "Uwaga: całka z funkcji z osobliwością w $x=1$, deterministyczne kwadratury mogą mieć problem. Funkcja nie jest całkowalna z kwadratem!"
   ]
  },
  {
   "cell_type": "code",
   "execution_count": 10,
   "metadata": {},
   "outputs": [],
   "source": [
    "def g(x):\n",
    "    return 2.0/np.sqrt(1-np.power(x,2))"
   ]
  },
  {
   "cell_type": "code",
   "execution_count": 11,
   "metadata": {},
   "outputs": [
    {
     "data": {
      "text/plain": [
       "(3.154455940423833, 30.843828210883842, 3.1342140614971687, 3.1746978193504973)"
      ]
     },
     "execution_count": 11,
     "metadata": {},
     "output_type": "execute_result"
    }
   ],
   "source": [
    "quad_MC(g, 0.0, 1.0, 301111)"
   ]
  },
  {
   "cell_type": "code",
   "execution_count": 12,
   "metadata": {},
   "outputs": [
    {
     "name": "stdout",
     "output_type": "stream",
     "text": [
      "n = 11, Quad MC= 2.4085126898, blad = 0.7330799638, wariancja = 0.5050131894, [1.9799789575, 2.8370464222]\n",
      "n = 121, Quad MC= 2.6177453236, blad = 0.5238473299, wariancja = 1.0491650422, [2.4315112186, 2.8039794287]\n",
      "n = 1331, Quad MC= 3.2863443178, blad = 0.1447516642, wariancja = 15.1187264992, [3.0731878214, 3.4995008142]\n",
      "n = 14641, Quad MC= 3.0872382553, blad = 0.0543543983, wariancja = 11.2738761481, [3.0317397540, 3.1427367565]\n",
      "n = 161051, Quad MC= 3.1367835229, blad = 0.0048091307, wariancja = 17.1451998220, [3.1161478062, 3.1574192397]\n",
      "n = 19487171, Quad MC= 3.1415194475, blad = 0.0000732061, wariancja = 39.2828616345, [3.1386798476, 3.1443590474]\n",
      "n = 214358881, Quad MC= 3.1420759374, blad = 0.0004832838, wariancja = 28.8226477509, [3.1413425622, 3.1428093125]\n",
      "Wall time: 15.5 s\n"
     ]
    }
   ],
   "source": [
    "%%time\n",
    "for i in range(0, len(N)):\n",
    "    Q, VAR, L_CI, R_CI = quad_MC(g, 0.0, 1.0, N[i])\n",
    "    print(\"n = %.i, Quad MC= %.10f, blad = %.10f, wariancja = %.10f, [%.10f, %.10f]\" % (N[i], Q, abs(np.pi-Q), VAR, L_CI, R_CI) )"
   ]
  },
  {
   "cell_type": "markdown",
   "metadata": {},
   "source": [
    "Zaimplementować najprostszą metodę Monte Carlo obliczania całki\n",
    "\n",
    "$$I(f)=\\int\\limits_{-\\infty}^{+\\infty} f(x)\\cdot\\frac{1}{\\sqrt{2\\pi}}\\cdot e^{-x^2/2} dx$$\n",
    "\n",
    "Przedstawić implementację używającą modułu $\\color{green}{numpy}$ oraz wykonać testy numeryczne."
   ]
  },
  {
   "cell_type": "markdown",
   "metadata": {},
   "source": [
    "Dla ustalonego $n\\in\\mathbb{N}$ metoda ta ma postać\n",
    "\n",
    "$$MC_n(f) = \\frac{1}{n}\\sum\\limits_{j=1}^n f(\\xi_j), $$\n",
    "\n",
    "gdzie $\\xi_1,\\xi_2,\\ldots,\\xi_n$ są niezależnymi zmiennymi losowymi o rozkładzie normalnym o średniej $0$ i odchyleniu standardowym $1$."
   ]
  },
  {
   "cell_type": "code",
   "execution_count": 13,
   "metadata": {},
   "outputs": [],
   "source": [
    "I2 = 0"
   ]
  },
  {
   "cell_type": "code",
   "execution_count": 14,
   "metadata": {},
   "outputs": [],
   "source": [
    "def quad_MC_2(f, n):\n",
    "    random_samples = np.random.normal(0,1,n).astype('float64')\n",
    "    f_values = f(random_samples)\n",
    "    \n",
    "    return np.mean(f_values)"
   ]
  },
  {
   "cell_type": "code",
   "execution_count": 15,
   "metadata": {},
   "outputs": [],
   "source": [
    "def f_1(x):\n",
    "    return np.sin(x)"
   ]
  },
  {
   "cell_type": "code",
   "execution_count": 16,
   "metadata": {},
   "outputs": [],
   "source": [
    "N = [11, 11**2, 11**3, 11**4, 11**6, 11**8]"
   ]
  },
  {
   "cell_type": "code",
   "execution_count": 17,
   "metadata": {},
   "outputs": [
    {
     "name": "stdout",
     "output_type": "stream",
     "text": [
      "n = 11, wartość kwadratury Monte Carlo= 0.2429899532, błąd = 0.2429899532\n",
      "n = 121, wartość kwadratury Monte Carlo= -0.0326790906, błąd = 0.0326790906\n",
      "n = 1331, wartość kwadratury Monte Carlo= 0.0066497507, błąd = 0.0066497507\n",
      "n = 14641, wartość kwadratury Monte Carlo= -0.0036848455, błąd = 0.0036848455\n",
      "n = 1771561, wartość kwadratury Monte Carlo= 0.0007361078, błąd = 0.0007361078\n",
      "n = 214358881, wartość kwadratury Monte Carlo= 0.0000768222, błąd = 0.0000768222\n",
      "Wall time: 6.46 s\n"
     ]
    }
   ],
   "source": [
    "%%time\n",
    "for i in range(0, len(N)):\n",
    "    Q = quad_MC_2(f_1, N[i])\n",
    "    ERR = abs(I2-Q)\n",
    "    print(\"n = %.i, wartość kwadratury Monte Carlo= %.10f, błąd = %.10f\" % (N[i], Q, ERR) )"
   ]
  },
  {
   "cell_type": "code",
   "execution_count": 18,
   "metadata": {},
   "outputs": [],
   "source": [
    "def f_2(x):\n",
    "    return (1/(x**2+1))*np.sqrt(np.pi * 2) * np.exp((x**2)/2)"
   ]
  },
  {
   "cell_type": "code",
   "execution_count": 19,
   "metadata": {},
   "outputs": [
    {
     "name": "stdout",
     "output_type": "stream",
     "text": [
      "n = 11, wartość kwadratury Monte Carlo= 2.6473580366, błąd = 0.4942346170\n",
      "n = 121, wartość kwadratury Monte Carlo= 2.4271251165, błąd = 0.7144675371\n",
      "n = 1331, wartość kwadratury Monte Carlo= 2.8985248433, błąd = 0.2430678103\n",
      "n = 14641, wartość kwadratury Monte Carlo= 2.6203342410, błąd = 0.5212584126\n",
      "n = 1771561, wartość kwadratury Monte Carlo= 2.8214811998, błąd = 0.3201114538\n",
      "n = 214358881, wartość kwadratury Monte Carlo= 2.7927712001, błąd = 0.3488214535\n",
      "Wall time: 8.68 s\n"
     ]
    }
   ],
   "source": [
    "%%time\n",
    "for i in range(0, len(N)):\n",
    "    Q = quad_MC_2(f_2, N[i])\n",
    "    ERR = abs(np.pi-Q)\n",
    "    print(\"n = %.i, wartość kwadratury Monte Carlo= %.10f, błąd = %.10f\" % (N[i], Q, ERR) )"
   ]
  },
  {
   "cell_type": "markdown",
   "metadata": {},
   "source": [
    "Symulacja CDF rozkładu normalnego $N(0,1)$, tj.\n",
    "\n",
    "$$\\Phi(t)=\\int\\limits_{-\\infty}^t \\frac{1}{\\sqrt{2\\pi}}e^{-x^2/2}dx$$"
   ]
  },
  {
   "cell_type": "code",
   "execution_count": 20,
   "metadata": {},
   "outputs": [],
   "source": [
    "def indicator(t, x):\n",
    "    return float(x<=t)"
   ]
  },
  {
   "cell_type": "code",
   "execution_count": 21,
   "metadata": {},
   "outputs": [],
   "source": [
    "def CDF_Normal(t, n):\n",
    "    random_sample = np.random.normal(0,1,n)\n",
    "    \n",
    "    random_binary = np.where(random_sample <= t, 1.0, 0.0)\n",
    "    \n",
    "    return np.mean(random_binary)"
   ]
  },
  {
   "cell_type": "code",
   "execution_count": 22,
   "metadata": {},
   "outputs": [
    {
     "data": {
      "text/plain": [
       "0.4998713"
      ]
     },
     "execution_count": 22,
     "metadata": {},
     "output_type": "execute_result"
    }
   ],
   "source": [
    "CDF_Normal(0.0, 10**7)"
   ]
  },
  {
   "cell_type": "markdown",
   "metadata": {},
   "source": [
    "Numerycznie sprawdzić następującą własność dystrybuanty $\\Phi$ rozkładu normalnego $N(0,1)$:\n",
    "\n",
    "$$\\Phi(x)+\\Phi(-x)=1, \\quad\\forall_{x\\in\\mathbb{R}}$$"
   ]
  },
  {
   "cell_type": "code",
   "execution_count": 23,
   "metadata": {},
   "outputs": [
    {
     "data": {
      "text/plain": [
       "1.0001776"
      ]
     },
     "execution_count": 23,
     "metadata": {},
     "output_type": "execute_result"
    }
   ],
   "source": [
    "CDF_Normal(0.23, 10**7)+CDF_Normal(-0.23, 10**7)"
   ]
  },
  {
   "cell_type": "code",
   "execution_count": 24,
   "metadata": {},
   "outputs": [
    {
     "name": "stdout",
     "output_type": "stream",
     "text": [
      "-0.0001626999999999601\n"
     ]
    }
   ],
   "source": [
    "print(1.0-abs(CDF_Normal(0.23, 10**7)+CDF_Normal(-0.23, 10**7)))"
   ]
  },
  {
   "cell_type": "markdown",
   "metadata": {},
   "source": [
    "Porównanie z implementacjami biblioteki SciPy"
   ]
  },
  {
   "cell_type": "code",
   "execution_count": 25,
   "metadata": {},
   "outputs": [],
   "source": [
    "import scipy.stats as sc_stats"
   ]
  },
  {
   "cell_type": "code",
   "execution_count": 26,
   "metadata": {},
   "outputs": [],
   "source": [
    "dist = sc_stats.norm(0,1)"
   ]
  },
  {
   "cell_type": "code",
   "execution_count": 27,
   "metadata": {},
   "outputs": [
    {
     "name": "stdout",
     "output_type": "stream",
     "text": [
      "0.5\n"
     ]
    }
   ],
   "source": [
    "cdf = dist.cdf(0.0)\n",
    "print(cdf)"
   ]
  },
  {
   "cell_type": "code",
   "execution_count": 28,
   "metadata": {},
   "outputs": [
    {
     "name": "stdout",
     "output_type": "stream",
     "text": [
      "1.00000000000000000\n"
     ]
    }
   ],
   "source": [
    "print('%.17f' % float(dist.cdf(0.23)+dist.cdf(-0.23)))"
   ]
  },
  {
   "cell_type": "markdown",
   "metadata": {},
   "source": [
    "Dla dowolnego $K\\geq 0$ zaimplementować metodę Monte Carlo obliczania całki\n",
    "\n",
    "$$I(f)=\\int\\limits_{-\\infty}^{+\\infty} (x-K)^{+}\\cdot\\frac{1}{\\sqrt{2\\pi}}\\cdot e^{-x^2/2} dx$$"
   ]
  },
  {
   "cell_type": "code",
   "execution_count": 29,
   "metadata": {},
   "outputs": [],
   "source": [
    "def call_option(K, n):\n",
    "    random_sample_0 = np.random.normal(0,1,n)\n",
    "    \n",
    "    random_sample_1 = np.where(random_sample_0 >= K, random_sample_0-K, 0.0)\n",
    "    \n",
    "    return np.mean(random_sample_1)"
   ]
  },
  {
   "cell_type": "code",
   "execution_count": 30,
   "metadata": {},
   "outputs": [
    {
     "data": {
      "text/plain": [
       "0.00038675690790802007"
      ]
     },
     "execution_count": 30,
     "metadata": {},
     "output_type": "execute_result"
    }
   ],
   "source": [
    "call_option(3, 10**7)"
   ]
  }
 ],
 "metadata": {
  "kernelspec": {
   "display_name": "Python 3",
   "language": "python",
   "name": "python3"
  },
  "language_info": {
   "codemirror_mode": {
    "name": "ipython",
    "version": 3
   },
   "file_extension": ".py",
   "mimetype": "text/x-python",
   "name": "python",
   "nbconvert_exporter": "python",
   "pygments_lexer": "ipython3",
   "version": "3.7.9"
  }
 },
 "nbformat": 4,
 "nbformat_minor": 2
}
